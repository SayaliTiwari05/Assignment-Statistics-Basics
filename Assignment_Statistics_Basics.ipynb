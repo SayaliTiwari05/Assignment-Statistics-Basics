{
  "nbformat": 4,
  "nbformat_minor": 0,
  "metadata": {
    "colab": {
      "provenance": []
    },
    "kernelspec": {
      "name": "python3",
      "display_name": "Python 3"
    },
    "language_info": {
      "name": "python"
    }
  },
  "cells": [
    {
      "cell_type": "code",
      "execution_count": null,
      "metadata": {
        "id": "8bsnkrUmLlcB"
      },
      "outputs": [],
      "source": []
    },
    {
      "cell_type": "markdown",
      "source": [
        "**Q.1:What is the difference between descriptive statistics and inferential\n",
        "statistics? Explain with examples.**\n",
        "\n",
        "Answer:- Descriptive statistics is used to organize, summarize, and present data, for example showing the average marks of a class.\n",
        "Inferential statistics is used to make predictions or generalizations about a population based on a sample, for example estimating the average marks of all university students from a sample.\n",
        "Thus, descriptive explains the data we have, while inferential helps us draw conclusions beyond the data.\n"
      ],
      "metadata": {
        "id": "M1etvvH2L3d3"
      }
    },
    {
      "cell_type": "markdown",
      "source": [
        "**Q.2: What is sampling in statistics? Explain the differences between random\n",
        "and stratified sampling**\n",
        "\n",
        "Answer:\n",
        "Sampling in statistics is the process of selecting a part of the population to study and make conclusions about the whole population.\n",
        "\n",
        "In random sampling, every individual has an equal chance of being selected.\n",
        "\n",
        "In stratified sampling, the population is divided into groups (strata) based on characteristics like age or gender, and samples are taken from each group.\n",
        "\n",
        "Thus, random sampling is purely by chance, while stratified sampling ensures representation from all groups."
      ],
      "metadata": {
        "id": "jDkH4jbROLZf"
      }
    },
    {
      "cell_type": "markdown",
      "source": [
        "**Q.3: Define mean, median, and mode. Explain why these measures of central\n",
        "tendency are important.**\n",
        "\n",
        "Answer:\n",
        "The mean is the arithmetic average of all observations,\n",
        "\n",
        "the median is the middle value when the data is arranged in order, and the mode is the value that occurs most frequently.\n",
        "\n",
        "These measures of central tendency are important because they provide a single\n",
        "representative value that summarizes the entire dataset and help in understanding, comparing, and interpreting data effectively"
      ],
      "metadata": {
        "id": "68FGoJuIPAJu"
      }
    },
    {
      "cell_type": "markdown",
      "source": [
        "**Q.4: Explain skewness and kurtosis. What does a positive skew imply about the\n",
        "data?**\n",
        "\n",
        "Answer:\n",
        "Skewness measures the asymmetry of a distribution, while kurtosis measures the peakednes or flatness of a distribution compared to a normal curve.\n",
        "\n",
        "A positive skew implies that the data have a longer tail on the right side, meaning most values are concentrated on the left and a few larger values pull the mean to the right."
      ],
      "metadata": {
        "id": "r35fbSDBPAUg"
      }
    },
    {
      "cell_type": "code",
      "source": [
        "#Q.5: Implement a Python program to compute the mean, median, and mode of\n",
        "#a given list of numbers.\n",
        "#numbers = [12, 15, 12, 18, 19, 12, 20, 22, 19, 19, 24, 24, 24, 26, 28]\n",
        "\n",
        "\n",
        "import numpy as np\n",
        "from scipy import stats\n",
        "num = [12, 15, 12, 18, 19, 12, 20, 22, 19, 19, 24, 24, 24, 26, 28]\n",
        "df1=np.mean(num)\n",
        "df2=np.median(num)\n",
        "df3=stats.mode(num)\n",
        "\n",
        "print(df1,df2,df3)\n",
        "\n"
      ],
      "metadata": {
        "colab": {
          "base_uri": "https://localhost:8080/"
        },
        "id": "zj93X5LRQM3v",
        "outputId": "2b3574e6-a921-4687-9e5b-744e5e73e24d"
      },
      "execution_count": null,
      "outputs": [
        {
          "output_type": "stream",
          "name": "stdout",
          "text": [
            "19.6 19.0 ModeResult(mode=np.int64(12), count=np.int64(3))\n"
          ]
        }
      ]
    },
    {
      "cell_type": "code",
      "source": [
        "#Q.6: Compute the covariance and correlation coefficient between the following\n",
        "#two datasets provided as lists in Python:\n",
        "#list_x = [10, 20, 30, 40, 50]\n",
        "#list_y = [15, 25, 35, 45, 60]\n",
        "\n",
        "\n",
        "import numpy as np\n",
        "from scipy import stats\n",
        "list_x = [10, 20, 30, 40, 50]\n",
        "list_y = [15, 25, 35, 45, 60]\n",
        "\n",
        "df1=np.cov(list_x, list_y)\n",
        "df2=stats.pearsonr(list_x, list_y)\n",
        "\n",
        "print(df1,df2)"
      ],
      "metadata": {
        "id": "zi5SH1ReRlM3",
        "colab": {
          "base_uri": "https://localhost:8080/"
        },
        "outputId": "e47432f3-bf8d-4a12-ff49-d897a017fd1f"
      },
      "execution_count": 3,
      "outputs": [
        {
          "output_type": "stream",
          "name": "stdout",
          "text": [
            "[[250. 275.]\n",
            " [275. 305.]] PearsonRResult(statistic=np.float64(0.9958932064677037), pvalue=np.float64(0.00031573334241720663))\n"
          ]
        }
      ]
    },
    {
      "cell_type": "code",
      "source": [
        "#Q.7:Write a Python script to draw a boxplot for the following numeric list and\n",
        "#identify its outliers. Explain the result:\n",
        "#data = [12, 14, 14, 15, 18, 19, 19, 21, 22, 22, 23, 23, 24, 26, 29, 35]\n",
        "import seaborn as sns\n",
        "data = [12, 14, 14, 15, 18, 19, 19, 21, 22, 22, 23, 23, 24, 26, 29, 35]\n",
        "sns.boxplot(data)\n"
      ],
      "metadata": {
        "colab": {
          "base_uri": "https://localhost:8080/",
          "height": 428
        },
        "id": "tQyOd4XbSjnE",
        "outputId": "0fb37582-df6a-45f3-b4b4-ed7e64c6fe84"
      },
      "execution_count": 4,
      "outputs": [
        {
          "output_type": "execute_result",
          "data": {
            "text/plain": [
              "<Axes: >"
            ]
          },
          "metadata": {},
          "execution_count": 4
        },
        {
          "output_type": "display_data",
          "data": {
            "text/plain": [
              "<Figure size 640x480 with 1 Axes>"
            ],
            "image/png": "[encoded data removed]"
          },
          "metadata": {}
        }
      ]
    },
    {
      "cell_type": "markdown",
      "source": [
        "**Q.8: You are working as a data analyst in an e-commerce company. The\n",
        "marketing team wants to know if there is a relationship between advertising spend and\n",
        "daily sales.\n",
        "● Explain how you would use covariance and correlation to explore this\n",
        "relationship.\n",
        "● Write Python code to compute the correlation between the two lists:\n",
        "advertising_spend = [200, 250, 300, 400, 500]\n",
        "daily_sales = [2200, 2450, 2750, 3200, 4000]**\n",
        "\n",
        "Answer:-\n",
        "\n",
        "As a data analyst, to study the relationship between advertising spend and daily sales, we can use covariance and correlation:\n",
        "\n",
        "Covariance tells us the direction of the relationship. A positive covariance means that when advertising spend increases, daily sales also increase.\n",
        "\n",
        "Correlation not only shows the direction but also the strength of the relationship. Its value lies between -1 and +1, where values close to +1 show a strong positive relationship."
      ],
      "metadata": {
        "id": "Q-Oj4id6d8P5"
      }
    },
    {
      "cell_type": "code",
      "source": [
        "#Q.8 Write Python code to compute the correlation between the two lists:\n",
        "#advertising_spend = [200, 250, 300, 400, 500]\n",
        "#daily_sales = [2200, 2450, 2750, 3200, 4000]\n",
        "\n",
        "import numpy as np\n",
        "from scipy import stats\n",
        "advertising_spend = [200, 250, 300, 400, 500]\n",
        "daily_sales = [2200, 2450, 2750, 3200, 4000]\n",
        "\n",
        "correlation = np.corrcoef(advertising_spend, daily_sales)[0, 1]\n",
        "print(\"Correlation:\", correlation)\n"
      ],
      "metadata": {
        "colab": {
          "base_uri": "https://localhost:8080/"
        },
        "id": "JSXa8Z7RdcSg",
        "outputId": "90575679-c82e-4f1d-bef6-34fbf8ad0031"
      },
      "execution_count": 7,
      "outputs": [
        {
          "output_type": "stream",
          "name": "stdout",
          "text": [
            "Correlation: 0.9935824101653329\n"
          ]
        }
      ]
    },
    {
      "cell_type": "markdown",
      "source": [
        "**Q.9: Your team has collected customer satisfaction survey data on a scale of\n",
        "1-10 and wants to understand its distribution before launching a new product.\n",
        "● Explain which summary statistics and visualizations (e.g. mean, standard\n",
        "deviation, histogram) you’d use.**\n",
        "Answer:\n",
        "To understand the distribution of customer satisfaction data, I would use summary statistics such as:\n",
        "\n",
        "Mean to find the average satisfaction score,\n",
        "Median to know the middle value,\n",
        "Mode to see the most common rating,\n",
        "Standard deviation to measure how much the responses vary from the average.\n",
        "\n",
        "For visualizations, I would use:\n",
        "\n",
        "Histogram to see the frequency of each score,\n",
        "Box plot to identify the spread and any outliers,\n",
        "Bar chart to quickly observe the most common ratings.\n",
        "\n",
        "These tools help in understanding the overall pattern, variability, and trends in customer satisfaction before launching the product."
      ],
      "metadata": {
        "id": "cjuEU_9mhJAz"
      }
    },
    {
      "cell_type": "code",
      "source": [
        "#Q.9:Write Python code to create a histogram using Matplotlib for the survey data:\n",
        "#survey_scores = [7, 8, 5, 9, 6, 7, 8, 9, 10, 4, 7, 6, 9, 8, 7]\n",
        "\n",
        "import matplotlib.pyplot as plt\n",
        "survey_scores = [7, 8, 5, 9, 6, 7, 8, 9, 10, 4, 7, 6, 9, 8, 7]\n",
        "plt.hist(survey_scores)\n",
        "plt.xlabel('Survey Scores')\n",
        "plt.ylabel('Frequency')\n",
        "plt.title('Histogram of Survey Scores')\n",
        "plt.show()\n"
      ],
      "metadata": {
        "colab": {
          "base_uri": "https://localhost:8080/",
          "height": 472
        },
        "id": "wuPcOLC2gl8j",
        "outputId": "9c360c41-2e14-43e6-d5aa-33d83ae8db6e"
      },
      "execution_count": 8,
      "outputs": [
        {
          "output_type": "display_data",
          "data": {
            "text/plain": [
              "<Figure size 640x480 with 1 Axes>"
            ],
            "image/png": "[encoded data removed]"
          },
          "metadata": {}
        }
      ]
    }
  ]
}